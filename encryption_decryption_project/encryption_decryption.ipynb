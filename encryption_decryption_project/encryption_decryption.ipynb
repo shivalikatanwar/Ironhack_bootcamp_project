{
 "cells": [
  {
   "cell_type": "code",
   "execution_count": 3,
   "metadata": {},
   "outputs": [],
   "source": [
    "source_key=['a', 'b', 'c', 'd', 'e', 'f', 'g', 'h', 'i', 'j', 'k', 'l', 'm', 'n', 'o', 'p', 'q', 'r', 's', 't', 'u', 'v', 'w', 'x', 'y', 'z']"
   ]
  },
  {
   "cell_type": "code",
   "execution_count": 7,
   "metadata": {},
   "outputs": [],
   "source": [
    "text=\"The Gadsden Purchase half dollar was a proposed commemorative coin to be issued by the United States Bureau of the Mint. El Paso coin dealer L. W. Hoffecker (pictured) wanted a coin issued he could control and distribute. He gained the support of several members of Congress, and a bill was introduced. Treasury Secretary Andrew W. Mellon sent a letter and two officials in opposition to the bill at its committee hearing, but it passed both houses of Congress without dissent.\""
   ]
  },
  {
   "cell_type": "code",
   "execution_count": 13,
   "metadata": {},
   "outputs": [],
   "source": [
    "def encrypt(shift,text):\n",
    "    result=[]\n",
    "    for i in text.lower():\n",
    "        try:\n",
    "            l=(source_key.index(i)+shift)%len(source_key)\n",
    "            result+=source_key[l]\n",
    "            \n",
    "        except ValueError:\n",
    "            result+=i\n",
    "            \n",
    "    return (''.join(result))\n",
    "            \n",
    "            "
   ]
  },
  {
   "cell_type": "code",
   "execution_count": 14,
   "metadata": {},
   "outputs": [
    {
     "data": {
      "text/plain": [
       "'vjg icfufgp rwtejcug jcnh fqnnct ycu c rtqrqugf eqoogoqtcvkxg eqkp vq dg kuuwgf da vjg wpkvgf uvcvgu dwtgcw qh vjg okpv. gn rcuq eqkp fgcngt n. y. jqhhgemgt (rkevwtgf) ycpvgf c eqkp kuuwgf jg eqwnf eqpvtqn cpf fkuvtkdwvg. jg ickpgf vjg uwrrqtv qh ugxgtcn ogodgtu qh eqpitguu, cpf c dknn ycu kpvtqfwegf. vtgcuwta ugetgvcta cpftgy y. ognnqp ugpv c ngvvgt cpf vyq qhhkekcnu kp qrrqukvkqp vq vjg dknn cv kvu eqookvvgg jgctkpi, dwv kv rcuugf dqvj jqwugu qh eqpitguu ykvjqwv fkuugpv.'"
      ]
     },
     "execution_count": 14,
     "metadata": {},
     "output_type": "execute_result"
    }
   ],
   "source": [
    "encrypt(2,text)"
   ]
  },
  {
   "cell_type": "code",
   "execution_count": 15,
   "metadata": {},
   "outputs": [],
   "source": [
    "text2=\"vjg icfufgp rwtejcug jcnh fqnnct ycu c rtqrqugf eqoogoqtcvkxg eqkp vq dg kuuwgf da vjg wpkvgf uvcvgu dwtgcw qh vjg okpv. gn rcuq eqkp fgcngt n. y. jqhhgemgt (rkevwtgf) ycpvgf c eqkp kuuwgf jg eqwnf eqpvtqn cpf fkuvtkdwvg. jg ickpgf vjg uwrrqtv qh ugxgtcn ogodgtu qh eqpitguu, cpf c dknn ycu kpvtqfwegf. vtgcuwta ugetgvcta cpftgy y. ognnqp ugpv c ngvvgt cpf vyq qhhkekcnu kp qrrqukvkqp vq vjg dknn cv kvu eqookvvgg jgctkpi, dwv kv rcuugf dqvj jqwugu qh eqpitguu ykvjqwv fkuugpv.\""
   ]
  },
  {
   "cell_type": "code",
   "execution_count": 16,
   "metadata": {},
   "outputs": [],
   "source": [
    "def decrypt(shift,text):\n",
    "    result=[]\n",
    "    for i in text2:\n",
    "        try:\n",
    "            l=(source_key.index(i)-shift)%len(source_key)\n",
    "            result+=source_key[l]\n",
    "        except ValueError:\n",
    "            result+=i\n",
    "    return(''.join(result))"
   ]
  },
  {
   "cell_type": "code",
   "execution_count": 18,
   "metadata": {},
   "outputs": [
    {
     "data": {
      "text/plain": [
       "'the gadsden purchase half dollar was a proposed commemorative coin to be issued by the united states bureau of the mint. el paso coin dealer l. w. hoffecker (pictured) wanted a coin issued he could control and distribute. he gained the support of several members of congress, and a bill was introduced. treasury secretary andrew w. mellon sent a letter and two officials in opposition to the bill at its committee hearing, but it passed both houses of congress without dissent.'"
      ]
     },
     "execution_count": 18,
     "metadata": {},
     "output_type": "execute_result"
    }
   ],
   "source": [
    "decrypt(2,text2)"
   ]
  },
  {
   "cell_type": "code",
   "execution_count": null,
   "metadata": {},
   "outputs": [],
   "source": []
  },
  {
   "cell_type": "code",
   "execution_count": null,
   "metadata": {},
   "outputs": [],
   "source": []
  },
  {
   "cell_type": "code",
   "execution_count": null,
   "metadata": {},
   "outputs": [],
   "source": []
  },
  {
   "cell_type": "code",
   "execution_count": null,
   "metadata": {},
   "outputs": [],
   "source": []
  }
 ],
 "metadata": {
  "kernelspec": {
   "display_name": "Python 3",
   "language": "python",
   "name": "python3"
  },
  "language_info": {
   "codemirror_mode": {
    "name": "ipython",
    "version": 3
   },
   "file_extension": ".py",
   "mimetype": "text/x-python",
   "name": "python",
   "nbconvert_exporter": "python",
   "pygments_lexer": "ipython3",
   "version": "3.7.3"
  }
 },
 "nbformat": 4,
 "nbformat_minor": 2
}
